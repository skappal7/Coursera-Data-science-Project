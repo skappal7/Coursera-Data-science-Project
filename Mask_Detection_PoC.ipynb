{
  "nbformat": 4,
  "nbformat_minor": 0,
  "metadata": {
    "colab": {
      "name": "Mask Detection PoC.ipynb",
      "provenance": [],
      "authorship_tag": "ABX9TyMHVpRuCtBdnqBn6YyF/htI",
      "include_colab_link": true
    },
    "kernelspec": {
      "name": "python3",
      "display_name": "Python 3"
    }
  },
  "cells": [
    {
      "cell_type": "markdown",
      "metadata": {
        "id": "view-in-github",
        "colab_type": "text"
      },
      "source": [
        "<a href=\"https://colab.research.google.com/github/skappal7/Data-Science-Projects-Prototypes/blob/master/Mask_Detection_PoC.ipynb\" target=\"_parent\"><img src=\"https://colab.research.google.com/assets/colab-badge.svg\" alt=\"Open In Colab\"/></a>"
      ]
    },
    {
      "cell_type": "code",
      "metadata": {
        "colab": {
          "base_uri": "https://localhost:8080/"
        },
        "id": "bsIv92_QIZKK",
        "outputId": "63561319-6f62-447b-cab7-cd4f1fe7c396"
      },
      "source": [
        "import tensorflow.keras\r\n",
        "from PIL import Image, ImageOps\r\n",
        "import numpy as np\r\n",
        "\r\n",
        "# Disable scientific notation for clarity\r\n",
        "np.set_printoptions(suppress=True)\r\n",
        "\r\n",
        "# Load the model\r\n",
        "model = tensorflow.keras.models.load_model('keras_model.h5', compile=False)\r\n",
        "\r\n",
        "# Create the array of the right shape to feed into the keras model\r\n",
        "# The 'length' or number of images you can put into the array is\r\n",
        "# determined by the first position in the shape tuple, in this case 1.\r\n",
        "data = np.ndarray(shape=(1, 224, 224, 3), dtype=np.float32)\r\n",
        "\r\n",
        "# Replace this with the path to your image\r\n",
        "image = Image.open('face.jpg')\r\n",
        "\r\n",
        "#resize the image to a 224x224 with the same strategy as in TM2:\r\n",
        "#resizing the image to be at least 224x224 and then cropping from the center\r\n",
        "size = (224, 224)\r\n",
        "image = ImageOps.fit(image, size, Image.ANTIALIAS)\r\n",
        "\r\n",
        "#turn the image into a numpy array\r\n",
        "image_array = np.asarray(image)\r\n",
        "\r\n",
        "# display the resized image\r\n",
        "image.show()\r\n",
        "\r\n",
        "# Normalize the image\r\n",
        "normalized_image_array = (image_array.astype(np.float32) / 127.0) - 1\r\n",
        "\r\n",
        "# Load the image into the array\r\n",
        "data[0] = normalized_image_array\r\n",
        "\r\n",
        "# run the inference\r\n",
        "prediction = model.predict(data)\r\n",
        "print(prediction)"
      ],
      "execution_count": 27,
      "outputs": [
        {
          "output_type": "stream",
          "text": [
            "[[0.9877223  0.01227767]]\n"
          ],
          "name": "stdout"
        }
      ]
    }
  ]
}