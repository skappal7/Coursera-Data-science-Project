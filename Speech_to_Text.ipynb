{
  "nbformat": 4,
  "nbformat_minor": 0,
  "metadata": {
    "colab": {
      "name": "Speech to Text.ipynb",
      "provenance": [],
      "authorship_tag": "ABX9TyN1hEzLALkDjPaohKCU/k4M",
      "include_colab_link": true
    },
    "kernelspec": {
      "name": "python3",
      "display_name": "Python 3"
    },
    "accelerator": "GPU"
  },
  "cells": [
    {
      "cell_type": "markdown",
      "metadata": {
        "id": "view-in-github",
        "colab_type": "text"
      },
      "source": [
        "<a href=\"https://colab.research.google.com/github/skappal7/Data-Science-Projects-Prototypes/blob/master/Speech_to_Text.ipynb\" target=\"_parent\"><img src=\"https://colab.research.google.com/assets/colab-badge.svg\" alt=\"Open In Colab\"/></a>"
      ]
    },
    {
      "cell_type": "markdown",
      "metadata": {
        "id": "VfXC3eP7yOBH"
      },
      "source": [
        "Speech is the most common means of communication and the majority of the population in the world relies on speech to communicate with one another. Speech recognition system basically translates spoken languages into text. There are various real-life examples of speech recognition systems. For example, Microsoft Cortana which recognize the speech and converts it into text."
      ]
    },
    {
      "cell_type": "markdown",
      "metadata": {
        "id": "XMswDAivLZml"
      },
      "source": [
        "**Installing the Speech Recognition library**"
      ]
    },
    {
      "cell_type": "code",
      "metadata": {
        "colab": {
          "base_uri": "https://localhost:8080/"
        },
        "id": "_JYmK5bIKn-l",
        "outputId": "d9ba554a-3524-42ce-8cbb-eae113d54efb"
      },
      "source": [
        "pip install SpeechRecognition"
      ],
      "execution_count": 6,
      "outputs": [
        {
          "output_type": "stream",
          "text": [
            "Requirement already satisfied: SpeechRecognition in /usr/local/lib/python3.6/dist-packages (3.8.1)\n"
          ],
          "name": "stdout"
        }
      ]
    },
    {
      "cell_type": "code",
      "metadata": {
        "colab": {
          "base_uri": "https://localhost:8080/"
        },
        "id": "J9BSAd5dwdbs",
        "outputId": "93f9fb86-2136-4301-98f8-7fdd986daf92"
      },
      "source": [
        "#import library (Keep in mind that the speech recognition library is installed before using the below command, if not use pip install SpeechRecognition to install the library)\r\n",
        "import speech_recognition as sr\r\n",
        "\r\n",
        "# Initialize recognizer class (for recognizing the speech)\r\n",
        "r = sr.Recognizer()\r\n",
        "\r\n",
        "# Reading Audio file as source\r\n",
        "# listening the audio file and store in audio_text variable\r\n",
        "# you may include your file name instead of \"welcome.wav\" to convert it into text\r\n",
        "\r\n",
        "with sr.AudioFile('Welcome.wav') as source:\r\n",
        "    \r\n",
        "    audio_text = r.listen(source)\r\n",
        "    \r\n",
        "# recoginize_() method will throw a request error if the API is unreachable, hence using exception handling\r\n",
        "    try:\r\n",
        "        \r\n",
        "        # using google speech recognition\r\n",
        "        text = r.recognize_google(audio_text)\r\n",
        "        print('Converting audio transcripts into text ...')\r\n",
        "        print(text)\r\n",
        "     \r\n",
        "    except:\r\n",
        "         print('Sorry.. run again...')"
      ],
      "execution_count": 7,
      "outputs": [
        {
          "output_type": "stream",
          "text": [
            "Converting audio transcripts into text ...\n",
            "thank you for choosing the Olympus dictation management system the Olympus dictation management system gives you the power to manage your dictations transcriptions and document seamlessly and to improve the productivity of your daily work for example you can automatically send the dictation files or transcribe documents do your assistant ociosa via email or FTP\n"
          ],
          "name": "stdout"
        }
      ]
    }
  ]
}